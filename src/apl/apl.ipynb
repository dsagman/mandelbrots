{
 "cells": [
  {
   "cell_type": "code",
   "execution_count": null,
   "metadata": {},
   "outputs": [
    {
     "ename": "",
     "evalue": "",
     "output_type": "error",
     "traceback": [
      "\u001b[1;31mThe kernel failed to start due to the missing module 'notebook.services'. Consider installing this module.\n",
      "\u001b[1;31mClick <a href='https://aka.ms/kernelFailuresMissingModule'>here</a> for more info."
     ]
    }
   ],
   "source": [
    "a ← 640 ⋄ b ← 350"
   ]
  },
  {
   "cell_type": "code",
   "execution_count": null,
   "metadata": {},
   "outputs": [
    {
     "ename": "",
     "evalue": "",
     "output_type": "error",
     "traceback": [
      "\u001b[1;31mThe kernel died. Error: Traceback (most recent call last):\n",
      "\u001b[1;31m  File \"<frozen runpy>\", line 189, in _run_module_as_main\n",
      "\u001b[1;31m  File \"<frozen runpy>\", line 148, in _get_module_details\n",
      "\u001b[1;31m  File \"<frozen runpy>\", line 112, in _get_module_details\n",
      "\u001b[1;31m  File \"/home/agman/.local/lib/python3.11/site-packages/dyalog_kernel/__init__.py\", line 5, in <module>\n",
      "\u001b[1;31m    from .kernel import DyalogKernel\n",
      "\u001b[1;31m  File \"/home/agman/.local/lib/python3.11/site-packages/dyalog_kernel/kernel.py\", line 13, in <module>\n",
      "\u001b[1;31m    from ipykernel.kernelbase import Kernel\n",
      "\u001b[1;31mModuleNotFoundError: No module named 'ipykernel'... View Jupyter <a href='command:jupyter.viewOutput'>log</a> for further details."
     ]
    }
   ],
   "source": []
  }
 ],
 "metadata": {
  "kernelspec": {
   "display_name": "Dyalog APL",
   "language": "apl",
   "name": "dyalog-kernel"
  },
  "language_info": {
   "name": "apl"
  }
 },
 "nbformat": 4,
 "nbformat_minor": 2
}
